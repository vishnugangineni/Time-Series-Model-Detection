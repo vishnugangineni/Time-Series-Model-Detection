{
 "cells": [
  {
   "cell_type": "code",
   "execution_count": 1,
   "metadata": {
    "collapsed": false
   },
   "outputs": [],
   "source": [
    "#Reading the dataset into a dataframe\n",
    "orders_df <- read.table('Orders.txt',header=TRUE)"
   ]
  },
  {
   "cell_type": "code",
   "execution_count": 2,
   "metadata": {
    "collapsed": false
   },
   "outputs": [],
   "source": [
    "#Removing blank spaces in the Origin column\n",
    "orders_df$Origin <- gsub('\\\\s+','',orders_df$Origin)"
   ]
  },
  {
   "cell_type": "code",
   "execution_count": 3,
   "metadata": {
    "collapsed": false
   },
   "outputs": [],
   "source": [
    "#Reading orders coming from Texas into a new dataframe\n",
    "TX_Orders<-orders_df[orders_df$Origin=='TX',]"
   ]
  },
  {
   "cell_type": "code",
   "execution_count": 4,
   "metadata": {
    "collapsed": false
   },
   "outputs": [
    {
     "data": {
      "text/html": [
       "<table>\n",
       "<thead><tr><th></th><th scope=col>Origin</th><th scope=col>DATE</th><th scope=col>Week</th><th scope=col>OrdersToBeProcessed</th></tr></thead>\n",
       "<tbody>\n",
       "\t<tr><th scope=row>1</th><td>TX       </td><td>2/1/2017 </td><td>5        </td><td>747      </td></tr>\n",
       "\t<tr><th scope=row>8</th><td>TX       </td><td>2/28/2017</td><td>9        </td><td>969      </td></tr>\n",
       "\t<tr><th scope=row>10</th><td>TX       </td><td>3/9/2017 </td><td>10       </td><td>969      </td></tr>\n",
       "\t<tr><th scope=row>13</th><td>TX       </td><td>3/15/2017</td><td>11       </td><td>1014     </td></tr>\n",
       "\t<tr><th scope=row>27</th><td>TX       </td><td>5/5/2017 </td><td>18       </td><td>777      </td></tr>\n",
       "\t<tr><th scope=row>30</th><td>TX       </td><td>2/7/2017 </td><td>6        </td><td>783      </td></tr>\n",
       "\t<tr><th scope=row>35</th><td>TX       </td><td>2/13/2017</td><td>7        </td><td>797      </td></tr>\n",
       "\t<tr><th scope=row>37</th><td>TX       </td><td>2/15/2017</td><td>7        </td><td>518      </td></tr>\n",
       "\t<tr><th scope=row>38</th><td>TX       </td><td>2/16/2017</td><td>7        </td><td>1306     </td></tr>\n",
       "\t<tr><th scope=row>46</th><td>TX       </td><td>3/10/2017</td><td>10       </td><td>1071     </td></tr>\n",
       "\t<tr><th scope=row>48</th><td>TX       </td><td>3/13/2017</td><td>11       </td><td>1133     </td></tr>\n",
       "\t<tr><th scope=row>65</th><td>TX       </td><td>5/2/2017 </td><td>18       </td><td>1004     </td></tr>\n",
       "\t<tr><th scope=row>68</th><td>TX       </td><td>2/8/2017 </td><td>6        </td><td>1009     </td></tr>\n",
       "\t<tr><th scope=row>83</th><td>TX       </td><td>3/22/2017</td><td>12       </td><td>849      </td></tr>\n",
       "\t<tr><th scope=row>87</th><td>TX       </td><td>3/29/2017</td><td>13       </td><td>922      </td></tr>\n",
       "\t<tr><th scope=row>89</th><td>TX       </td><td>3/30/2017</td><td>13       </td><td>581      </td></tr>\n",
       "\t<tr><th scope=row>98</th><td>TX       </td><td>4/24/2017</td><td>17       </td><td>878      </td></tr>\n",
       "\t<tr><th scope=row>104</th><td>TX       </td><td>2/2/2017 </td><td>5        </td><td>981      </td></tr>\n",
       "\t<tr><th scope=row>106</th><td>TX       </td><td>2/3/2017 </td><td>5        </td><td>1139     </td></tr>\n",
       "\t<tr><th scope=row>115</th><td>TX       </td><td>2/21/2017</td><td>8        </td><td>855      </td></tr>\n",
       "\t<tr><th scope=row>118</th><td>TX       </td><td>2/27/2017</td><td>9        </td><td>1066     </td></tr>\n",
       "\t<tr><th scope=row>124</th><td>TX       </td><td>3/16/2017</td><td>11       </td><td>805      </td></tr>\n",
       "\t<tr><th scope=row>126</th><td>TX       </td><td>3/23/2017</td><td>12       </td><td>828      </td></tr>\n",
       "\t<tr><th scope=row>128</th><td>TX       </td><td>4/10/2017</td><td>15       </td><td>1138     </td></tr>\n",
       "\t<tr><th scope=row>129</th><td>TX       </td><td>4/12/2017</td><td>15       </td><td>711      </td></tr>\n",
       "\t<tr><th scope=row>132</th><td>TX       </td><td>4/19/2017</td><td>16       </td><td>612      </td></tr>\n",
       "\t<tr><th scope=row>135</th><td>TX       </td><td>5/4/2017 </td><td>18       </td><td>675      </td></tr>\n",
       "\t<tr><th scope=row>150</th><td>TX       </td><td>3/14/2017</td><td>11       </td><td>381      </td></tr>\n",
       "\t<tr><th scope=row>155</th><td>TX       </td><td>3/24/2017</td><td>12       </td><td>903      </td></tr>\n",
       "\t<tr><th scope=row>159</th><td>TX       </td><td>3/31/2017</td><td>13       </td><td>652      </td></tr>\n",
       "\t<tr><th scope=row>...</th><td>...</td><td>...</td><td>...</td><td>...</td></tr>\n",
       "\t<tr><th scope=row>223</th><td>TX       </td><td>2/22/2017</td><td>8        </td><td>679      </td></tr>\n",
       "\t<tr><th scope=row>225</th><td>TX       </td><td>3/2/2017 </td><td>9        </td><td>730      </td></tr>\n",
       "\t<tr><th scope=row>232</th><td>TX       </td><td>3/21/2017</td><td>12       </td><td>636      </td></tr>\n",
       "\t<tr><th scope=row>234</th><td>TX       </td><td>3/28/2017</td><td>13       </td><td>971      </td></tr>\n",
       "\t<tr><th scope=row>235</th><td>TX       </td><td>4/4/2017 </td><td>14       </td><td>967      </td></tr>\n",
       "\t<tr><th scope=row>240</th><td>TX       </td><td>4/7/2017 </td><td>14       </td><td>584      </td></tr>\n",
       "\t<tr><th scope=row>248</th><td>TX       </td><td>5/1/2017 </td><td>18       </td><td>710      </td></tr>\n",
       "\t<tr><th scope=row>257</th><td>TX       </td><td>2/24/2017</td><td>8        </td><td>887      </td></tr>\n",
       "\t<tr><th scope=row>268</th><td>TX       </td><td>4/21/2017</td><td>16       </td><td>399      </td></tr>\n",
       "\t<tr><th scope=row>277</th><td>TX       </td><td>2/14/2017</td><td>7        </td><td>1004     </td></tr>\n",
       "\t<tr><th scope=row>280</th><td>TX       </td><td>2/23/2017</td><td>8        </td><td>584      </td></tr>\n",
       "\t<tr><th scope=row>283</th><td>TX       </td><td>3/3/2017 </td><td>9        </td><td>624      </td></tr>\n",
       "\t<tr><th scope=row>290</th><td>TX       </td><td>3/20/2017</td><td>12       </td><td>865      </td></tr>\n",
       "\t<tr><th scope=row>292</th><td>TX       </td><td>3/27/2017</td><td>13       </td><td>869      </td></tr>\n",
       "\t<tr><th scope=row>297</th><td>TX       </td><td>4/5/2017 </td><td>14       </td><td>979      </td></tr>\n",
       "\t<tr><th scope=row>298</th><td>TX       </td><td>4/6/2017 </td><td>14       </td><td>916      </td></tr>\n",
       "\t<tr><th scope=row>301</th><td>TX       </td><td>4/13/2017</td><td>15       </td><td>1070     </td></tr>\n",
       "\t<tr><th scope=row>302</th><td>TX       </td><td>4/14/2017</td><td>15       </td><td>570      </td></tr>\n",
       "\t<tr><th scope=row>307</th><td>TX       </td><td>5/3/2017 </td><td>18       </td><td>630      </td></tr>\n",
       "\t<tr><th scope=row>312</th><td>TX       </td><td>2/9/2017 </td><td>6        </td><td>979      </td></tr>\n",
       "\t<tr><th scope=row>314</th><td>TX       </td><td>2/10/2017</td><td>6        </td><td>853      </td></tr>\n",
       "\t<tr><th scope=row>317</th><td>TX       </td><td>2/17/2017</td><td>7        </td><td>889      </td></tr>\n",
       "\t<tr><th scope=row>324</th><td>TX       </td><td>3/1/2017 </td><td>9        </td><td>528      </td></tr>\n",
       "\t<tr><th scope=row>327</th><td>TX       </td><td>3/6/2017 </td><td>10       </td><td>1537     </td></tr>\n",
       "\t<tr><th scope=row>329</th><td>TX       </td><td>3/7/2017 </td><td>10       </td><td>1111     </td></tr>\n",
       "\t<tr><th scope=row>330</th><td>TX       </td><td>3/8/2017 </td><td>10       </td><td>810      </td></tr>\n",
       "\t<tr><th scope=row>333</th><td>TX       </td><td>3/17/2017</td><td>11       </td><td>1175     </td></tr>\n",
       "\t<tr><th scope=row>335</th><td>TX       </td><td>4/3/2017 </td><td>14       </td><td>961      </td></tr>\n",
       "\t<tr><th scope=row>340</th><td>TX       </td><td>4/27/2017</td><td>17       </td><td>853      </td></tr>\n",
       "\t<tr><th scope=row>341</th><td>TX       </td><td>4/28/2017</td><td>17       </td><td>1231     </td></tr>\n",
       "</tbody>\n",
       "</table>\n"
      ],
      "text/latex": [
       "\\begin{tabular}{r|llll}\n",
       "  & Origin & DATE & Week & OrdersToBeProcessed\\\\\n",
       "\\hline\n",
       "\t1 & TX        & 2/1/2017  & 5         & 747      \\\\\n",
       "\t8 & TX        & 2/28/2017 & 9         & 969      \\\\\n",
       "\t10 & TX        & 3/9/2017  & 10        & 969      \\\\\n",
       "\t13 & TX        & 3/15/2017 & 11        & 1014     \\\\\n",
       "\t27 & TX        & 5/5/2017  & 18        & 777      \\\\\n",
       "\t30 & TX        & 2/7/2017  & 6         & 783      \\\\\n",
       "\t35 & TX        & 2/13/2017 & 7         & 797      \\\\\n",
       "\t37 & TX        & 2/15/2017 & 7         & 518      \\\\\n",
       "\t38 & TX        & 2/16/2017 & 7         & 1306     \\\\\n",
       "\t46 & TX        & 3/10/2017 & 10        & 1071     \\\\\n",
       "\t48 & TX        & 3/13/2017 & 11        & 1133     \\\\\n",
       "\t65 & TX        & 5/2/2017  & 18        & 1004     \\\\\n",
       "\t68 & TX        & 2/8/2017  & 6         & 1009     \\\\\n",
       "\t83 & TX        & 3/22/2017 & 12        & 849      \\\\\n",
       "\t87 & TX        & 3/29/2017 & 13        & 922      \\\\\n",
       "\t89 & TX        & 3/30/2017 & 13        & 581      \\\\\n",
       "\t98 & TX        & 4/24/2017 & 17        & 878      \\\\\n",
       "\t104 & TX        & 2/2/2017  & 5         & 981      \\\\\n",
       "\t106 & TX        & 2/3/2017  & 5         & 1139     \\\\\n",
       "\t115 & TX        & 2/21/2017 & 8         & 855      \\\\\n",
       "\t118 & TX        & 2/27/2017 & 9         & 1066     \\\\\n",
       "\t124 & TX        & 3/16/2017 & 11        & 805      \\\\\n",
       "\t126 & TX        & 3/23/2017 & 12        & 828      \\\\\n",
       "\t128 & TX        & 4/10/2017 & 15        & 1138     \\\\\n",
       "\t129 & TX        & 4/12/2017 & 15        & 711      \\\\\n",
       "\t132 & TX        & 4/19/2017 & 16        & 612      \\\\\n",
       "\t135 & TX        & 5/4/2017  & 18        & 675      \\\\\n",
       "\t150 & TX        & 3/14/2017 & 11        & 381      \\\\\n",
       "\t155 & TX        & 3/24/2017 & 12        & 903      \\\\\n",
       "\t159 & TX        & 3/31/2017 & 13        & 652      \\\\\n",
       "\t... & ... & ... & ... & ...\\\\\n",
       "\t223 & TX        & 2/22/2017 & 8         & 679      \\\\\n",
       "\t225 & TX        & 3/2/2017  & 9         & 730      \\\\\n",
       "\t232 & TX        & 3/21/2017 & 12        & 636      \\\\\n",
       "\t234 & TX        & 3/28/2017 & 13        & 971      \\\\\n",
       "\t235 & TX        & 4/4/2017  & 14        & 967      \\\\\n",
       "\t240 & TX        & 4/7/2017  & 14        & 584      \\\\\n",
       "\t248 & TX        & 5/1/2017  & 18        & 710      \\\\\n",
       "\t257 & TX        & 2/24/2017 & 8         & 887      \\\\\n",
       "\t268 & TX        & 4/21/2017 & 16        & 399      \\\\\n",
       "\t277 & TX        & 2/14/2017 & 7         & 1004     \\\\\n",
       "\t280 & TX        & 2/23/2017 & 8         & 584      \\\\\n",
       "\t283 & TX        & 3/3/2017  & 9         & 624      \\\\\n",
       "\t290 & TX        & 3/20/2017 & 12        & 865      \\\\\n",
       "\t292 & TX        & 3/27/2017 & 13        & 869      \\\\\n",
       "\t297 & TX        & 4/5/2017  & 14        & 979      \\\\\n",
       "\t298 & TX        & 4/6/2017  & 14        & 916      \\\\\n",
       "\t301 & TX        & 4/13/2017 & 15        & 1070     \\\\\n",
       "\t302 & TX        & 4/14/2017 & 15        & 570      \\\\\n",
       "\t307 & TX        & 5/3/2017  & 18        & 630      \\\\\n",
       "\t312 & TX        & 2/9/2017  & 6         & 979      \\\\\n",
       "\t314 & TX        & 2/10/2017 & 6         & 853      \\\\\n",
       "\t317 & TX        & 2/17/2017 & 7         & 889      \\\\\n",
       "\t324 & TX        & 3/1/2017  & 9         & 528      \\\\\n",
       "\t327 & TX        & 3/6/2017  & 10        & 1537     \\\\\n",
       "\t329 & TX        & 3/7/2017  & 10        & 1111     \\\\\n",
       "\t330 & TX        & 3/8/2017  & 10        & 810      \\\\\n",
       "\t333 & TX        & 3/17/2017 & 11        & 1175     \\\\\n",
       "\t335 & TX        & 4/3/2017  & 14        & 961      \\\\\n",
       "\t340 & TX        & 4/27/2017 & 17        & 853      \\\\\n",
       "\t341 & TX        & 4/28/2017 & 17        & 1231     \\\\\n",
       "\\end{tabular}\n"
      ],
      "text/markdown": [
       "\n",
       "| <!--/--> | Origin | DATE | Week | OrdersToBeProcessed | \n",
       "|---|---|---|---|---|---|---|---|---|---|---|---|---|---|---|---|---|---|---|---|---|---|---|---|---|---|---|---|---|---|---|---|---|---|---|---|---|---|---|---|---|---|---|---|---|---|---|---|---|---|---|---|---|---|---|---|---|---|---|---|---|\n",
       "| 1 | TX        | 2/1/2017  | 5         | 747       | \n",
       "| 8 | TX        | 2/28/2017 | 9         | 969       | \n",
       "| 10 | TX        | 3/9/2017  | 10        | 969       | \n",
       "| 13 | TX        | 3/15/2017 | 11        | 1014      | \n",
       "| 27 | TX        | 5/5/2017  | 18        | 777       | \n",
       "| 30 | TX        | 2/7/2017  | 6         | 783       | \n",
       "| 35 | TX        | 2/13/2017 | 7         | 797       | \n",
       "| 37 | TX        | 2/15/2017 | 7         | 518       | \n",
       "| 38 | TX        | 2/16/2017 | 7         | 1306      | \n",
       "| 46 | TX        | 3/10/2017 | 10        | 1071      | \n",
       "| 48 | TX        | 3/13/2017 | 11        | 1133      | \n",
       "| 65 | TX        | 5/2/2017  | 18        | 1004      | \n",
       "| 68 | TX        | 2/8/2017  | 6         | 1009      | \n",
       "| 83 | TX        | 3/22/2017 | 12        | 849       | \n",
       "| 87 | TX        | 3/29/2017 | 13        | 922       | \n",
       "| 89 | TX        | 3/30/2017 | 13        | 581       | \n",
       "| 98 | TX        | 4/24/2017 | 17        | 878       | \n",
       "| 104 | TX        | 2/2/2017  | 5         | 981       | \n",
       "| 106 | TX        | 2/3/2017  | 5         | 1139      | \n",
       "| 115 | TX        | 2/21/2017 | 8         | 855       | \n",
       "| 118 | TX        | 2/27/2017 | 9         | 1066      | \n",
       "| 124 | TX        | 3/16/2017 | 11        | 805       | \n",
       "| 126 | TX        | 3/23/2017 | 12        | 828       | \n",
       "| 128 | TX        | 4/10/2017 | 15        | 1138      | \n",
       "| 129 | TX        | 4/12/2017 | 15        | 711       | \n",
       "| 132 | TX        | 4/19/2017 | 16        | 612       | \n",
       "| 135 | TX        | 5/4/2017  | 18        | 675       | \n",
       "| 150 | TX        | 3/14/2017 | 11        | 381       | \n",
       "| 155 | TX        | 3/24/2017 | 12        | 903       | \n",
       "| 159 | TX        | 3/31/2017 | 13        | 652       | \n",
       "| ... | ... | ... | ... | ... | \n",
       "| 223 | TX        | 2/22/2017 | 8         | 679       | \n",
       "| 225 | TX        | 3/2/2017  | 9         | 730       | \n",
       "| 232 | TX        | 3/21/2017 | 12        | 636       | \n",
       "| 234 | TX        | 3/28/2017 | 13        | 971       | \n",
       "| 235 | TX        | 4/4/2017  | 14        | 967       | \n",
       "| 240 | TX        | 4/7/2017  | 14        | 584       | \n",
       "| 248 | TX        | 5/1/2017  | 18        | 710       | \n",
       "| 257 | TX        | 2/24/2017 | 8         | 887       | \n",
       "| 268 | TX        | 4/21/2017 | 16        | 399       | \n",
       "| 277 | TX        | 2/14/2017 | 7         | 1004      | \n",
       "| 280 | TX        | 2/23/2017 | 8         | 584       | \n",
       "| 283 | TX        | 3/3/2017  | 9         | 624       | \n",
       "| 290 | TX        | 3/20/2017 | 12        | 865       | \n",
       "| 292 | TX        | 3/27/2017 | 13        | 869       | \n",
       "| 297 | TX        | 4/5/2017  | 14        | 979       | \n",
       "| 298 | TX        | 4/6/2017  | 14        | 916       | \n",
       "| 301 | TX        | 4/13/2017 | 15        | 1070      | \n",
       "| 302 | TX        | 4/14/2017 | 15        | 570       | \n",
       "| 307 | TX        | 5/3/2017  | 18        | 630       | \n",
       "| 312 | TX        | 2/9/2017  | 6         | 979       | \n",
       "| 314 | TX        | 2/10/2017 | 6         | 853       | \n",
       "| 317 | TX        | 2/17/2017 | 7         | 889       | \n",
       "| 324 | TX        | 3/1/2017  | 9         | 528       | \n",
       "| 327 | TX        | 3/6/2017  | 10        | 1537      | \n",
       "| 329 | TX        | 3/7/2017  | 10        | 1111      | \n",
       "| 330 | TX        | 3/8/2017  | 10        | 810       | \n",
       "| 333 | TX        | 3/17/2017 | 11        | 1175      | \n",
       "| 335 | TX        | 4/3/2017  | 14        | 961       | \n",
       "| 340 | TX        | 4/27/2017 | 17        | 853       | \n",
       "| 341 | TX        | 4/28/2017 | 17        | 1231      | \n",
       "\n",
       "\n"
      ],
      "text/plain": [
       "    Origin DATE      Week OrdersToBeProcessed\n",
       "1   TX     2/1/2017  5    747                \n",
       "8   TX     2/28/2017 9    969                \n",
       "10  TX     3/9/2017  10   969                \n",
       "13  TX     3/15/2017 11   1014               \n",
       "27  TX     5/5/2017  18   777                \n",
       "30  TX     2/7/2017  6    783                \n",
       "35  TX     2/13/2017 7    797                \n",
       "37  TX     2/15/2017 7    518                \n",
       "38  TX     2/16/2017 7    1306               \n",
       "46  TX     3/10/2017 10   1071               \n",
       "48  TX     3/13/2017 11   1133               \n",
       "65  TX     5/2/2017  18   1004               \n",
       "68  TX     2/8/2017  6    1009               \n",
       "83  TX     3/22/2017 12   849                \n",
       "87  TX     3/29/2017 13   922                \n",
       "89  TX     3/30/2017 13   581                \n",
       "98  TX     4/24/2017 17   878                \n",
       "104 TX     2/2/2017  5    981                \n",
       "106 TX     2/3/2017  5    1139               \n",
       "115 TX     2/21/2017 8    855                \n",
       "118 TX     2/27/2017 9    1066               \n",
       "124 TX     3/16/2017 11   805                \n",
       "126 TX     3/23/2017 12   828                \n",
       "128 TX     4/10/2017 15   1138               \n",
       "129 TX     4/12/2017 15   711                \n",
       "132 TX     4/19/2017 16   612                \n",
       "135 TX     5/4/2017  18   675                \n",
       "150 TX     3/14/2017 11   381                \n",
       "155 TX     3/24/2017 12   903                \n",
       "159 TX     3/31/2017 13   652                \n",
       "... ...    ...       ...  ...                \n",
       "223 TX     2/22/2017 8    679                \n",
       "225 TX     3/2/2017  9    730                \n",
       "232 TX     3/21/2017 12   636                \n",
       "234 TX     3/28/2017 13   971                \n",
       "235 TX     4/4/2017  14   967                \n",
       "240 TX     4/7/2017  14   584                \n",
       "248 TX     5/1/2017  18   710                \n",
       "257 TX     2/24/2017 8    887                \n",
       "268 TX     4/21/2017 16   399                \n",
       "277 TX     2/14/2017 7    1004               \n",
       "280 TX     2/23/2017 8    584                \n",
       "283 TX     3/3/2017  9    624                \n",
       "290 TX     3/20/2017 12   865                \n",
       "292 TX     3/27/2017 13   869                \n",
       "297 TX     4/5/2017  14   979                \n",
       "298 TX     4/6/2017  14   916                \n",
       "301 TX     4/13/2017 15   1070               \n",
       "302 TX     4/14/2017 15   570                \n",
       "307 TX     5/3/2017  18   630                \n",
       "312 TX     2/9/2017  6    979                \n",
       "314 TX     2/10/2017 6    853                \n",
       "317 TX     2/17/2017 7    889                \n",
       "324 TX     3/1/2017  9    528                \n",
       "327 TX     3/6/2017  10   1537               \n",
       "329 TX     3/7/2017  10   1111               \n",
       "330 TX     3/8/2017  10   810                \n",
       "333 TX     3/17/2017 11   1175               \n",
       "335 TX     4/3/2017  14   961                \n",
       "340 TX     4/27/2017 17   853                \n",
       "341 TX     4/28/2017 17   1231               "
      ]
     },
     "metadata": {},
     "output_type": "display_data"
    }
   ],
   "source": [
    "TX_Orders"
   ]
  },
  {
   "cell_type": "code",
   "execution_count": 5,
   "metadata": {
    "collapsed": false
   },
   "outputs": [],
   "source": [
    "#Correcting date format for time series analysis\n",
    "formattedDates<-as.Date(TX_Orders$DATE,format='%m/%d/%Y')"
   ]
  },
  {
   "cell_type": "code",
   "execution_count": 6,
   "metadata": {
    "collapsed": false
   },
   "outputs": [],
   "source": [
    "TX_Orders$DATE <-formattedDates"
   ]
  },
  {
   "cell_type": "code",
   "execution_count": 7,
   "metadata": {
    "collapsed": false
   },
   "outputs": [],
   "source": [
    "#Sorting the data frame by date\n",
    "TX_Orders<-TX_Orders[order(TX_Orders$DATE),]"
   ]
  },
  {
   "cell_type": "code",
   "execution_count": 8,
   "metadata": {
    "collapsed": false
   },
   "outputs": [
    {
     "data": {
      "text/html": [
       "<table>\n",
       "<thead><tr><th></th><th scope=col>Origin</th><th scope=col>DATE</th><th scope=col>Week</th><th scope=col>OrdersToBeProcessed</th></tr></thead>\n",
       "<tbody>\n",
       "\t<tr><th scope=row>1</th><td>TX        </td><td>2017-02-01</td><td>5         </td><td>747       </td></tr>\n",
       "\t<tr><th scope=row>104</th><td>TX        </td><td>2017-02-02</td><td>5         </td><td>981       </td></tr>\n",
       "\t<tr><th scope=row>106</th><td>TX        </td><td>2017-02-03</td><td>5         </td><td>1139      </td></tr>\n",
       "\t<tr><th scope=row>217</th><td>TX        </td><td>2017-02-06</td><td>6         </td><td>1366      </td></tr>\n",
       "\t<tr><th scope=row>30</th><td>TX        </td><td>2017-02-07</td><td>6         </td><td>783       </td></tr>\n",
       "\t<tr><th scope=row>68</th><td>TX        </td><td>2017-02-08</td><td>6         </td><td>1009      </td></tr>\n",
       "\t<tr><th scope=row>312</th><td>TX        </td><td>2017-02-09</td><td>6         </td><td>979       </td></tr>\n",
       "\t<tr><th scope=row>314</th><td>TX        </td><td>2017-02-10</td><td>6         </td><td>853       </td></tr>\n",
       "\t<tr><th scope=row>35</th><td>TX        </td><td>2017-02-13</td><td>7         </td><td>797       </td></tr>\n",
       "\t<tr><th scope=row>277</th><td>TX        </td><td>2017-02-14</td><td>7         </td><td>1004      </td></tr>\n",
       "\t<tr><th scope=row>37</th><td>TX        </td><td>2017-02-15</td><td>7         </td><td>518       </td></tr>\n",
       "\t<tr><th scope=row>38</th><td>TX        </td><td>2017-02-16</td><td>7         </td><td>1306      </td></tr>\n",
       "\t<tr><th scope=row>317</th><td>TX        </td><td>2017-02-17</td><td>7         </td><td>889       </td></tr>\n",
       "\t<tr><th scope=row>180</th><td>TX        </td><td>2017-02-20</td><td>8         </td><td>578       </td></tr>\n",
       "\t<tr><th scope=row>115</th><td>TX        </td><td>2017-02-21</td><td>8         </td><td>855       </td></tr>\n",
       "\t<tr><th scope=row>223</th><td>TX        </td><td>2017-02-22</td><td>8         </td><td>679       </td></tr>\n",
       "\t<tr><th scope=row>280</th><td>TX        </td><td>2017-02-23</td><td>8         </td><td>584       </td></tr>\n",
       "\t<tr><th scope=row>257</th><td>TX        </td><td>2017-02-24</td><td>8         </td><td>887       </td></tr>\n",
       "\t<tr><th scope=row>118</th><td>TX        </td><td>2017-02-27</td><td>9         </td><td>1066      </td></tr>\n",
       "\t<tr><th scope=row>8</th><td>TX        </td><td>2017-02-28</td><td>9         </td><td>969       </td></tr>\n",
       "\t<tr><th scope=row>324</th><td>TX        </td><td>2017-03-01</td><td>9         </td><td>528       </td></tr>\n",
       "\t<tr><th scope=row>225</th><td>TX        </td><td>2017-03-02</td><td>9         </td><td>730       </td></tr>\n",
       "\t<tr><th scope=row>283</th><td>TX        </td><td>2017-03-03</td><td>9         </td><td>624       </td></tr>\n",
       "\t<tr><th scope=row>327</th><td>TX        </td><td>2017-03-06</td><td>10        </td><td>1537      </td></tr>\n",
       "\t<tr><th scope=row>329</th><td>TX        </td><td>2017-03-07</td><td>10        </td><td>1111      </td></tr>\n",
       "\t<tr><th scope=row>330</th><td>TX        </td><td>2017-03-08</td><td>10        </td><td>810       </td></tr>\n",
       "\t<tr><th scope=row>10</th><td>TX        </td><td>2017-03-09</td><td>10        </td><td>969       </td></tr>\n",
       "\t<tr><th scope=row>46</th><td>TX        </td><td>2017-03-10</td><td>10        </td><td>1071      </td></tr>\n",
       "\t<tr><th scope=row>48</th><td>TX        </td><td>2017-03-13</td><td>11        </td><td>1133      </td></tr>\n",
       "\t<tr><th scope=row>150</th><td>TX        </td><td>2017-03-14</td><td>11        </td><td>381       </td></tr>\n",
       "\t<tr><th scope=row>...</th><td>...</td><td>...</td><td>...</td><td>...</td></tr>\n",
       "\t<tr><th scope=row>292</th><td>TX        </td><td>2017-03-27</td><td>13        </td><td>869       </td></tr>\n",
       "\t<tr><th scope=row>234</th><td>TX        </td><td>2017-03-28</td><td>13        </td><td>971       </td></tr>\n",
       "\t<tr><th scope=row>87</th><td>TX        </td><td>2017-03-29</td><td>13        </td><td>922       </td></tr>\n",
       "\t<tr><th scope=row>89</th><td>TX        </td><td>2017-03-30</td><td>13        </td><td>581       </td></tr>\n",
       "\t<tr><th scope=row>159</th><td>TX        </td><td>2017-03-31</td><td>13        </td><td>652       </td></tr>\n",
       "\t<tr><th scope=row>335</th><td>TX        </td><td>2017-04-03</td><td>14        </td><td>961       </td></tr>\n",
       "\t<tr><th scope=row>235</th><td>TX        </td><td>2017-04-04</td><td>14        </td><td>967       </td></tr>\n",
       "\t<tr><th scope=row>297</th><td>TX        </td><td>2017-04-05</td><td>14        </td><td>979       </td></tr>\n",
       "\t<tr><th scope=row>298</th><td>TX        </td><td>2017-04-06</td><td>14        </td><td>916       </td></tr>\n",
       "\t<tr><th scope=row>240</th><td>TX        </td><td>2017-04-07</td><td>14        </td><td>584       </td></tr>\n",
       "\t<tr><th scope=row>128</th><td>TX        </td><td>2017-04-10</td><td>15        </td><td>1138      </td></tr>\n",
       "\t<tr><th scope=row>163</th><td>TX        </td><td>2017-04-11</td><td>15        </td><td>893       </td></tr>\n",
       "\t<tr><th scope=row>129</th><td>TX        </td><td>2017-04-12</td><td>15        </td><td>711       </td></tr>\n",
       "\t<tr><th scope=row>301</th><td>TX        </td><td>2017-04-13</td><td>15        </td><td>1070      </td></tr>\n",
       "\t<tr><th scope=row>302</th><td>TX        </td><td>2017-04-14</td><td>15        </td><td>570       </td></tr>\n",
       "\t<tr><th scope=row>204</th><td>TX        </td><td>2017-04-17</td><td>16        </td><td>927       </td></tr>\n",
       "\t<tr><th scope=row>166</th><td>TX        </td><td>2017-04-18</td><td>16        </td><td>1016      </td></tr>\n",
       "\t<tr><th scope=row>132</th><td>TX        </td><td>2017-04-19</td><td>16        </td><td>612       </td></tr>\n",
       "\t<tr><th scope=row>168</th><td>TX        </td><td>2017-04-20</td><td>16        </td><td>748       </td></tr>\n",
       "\t<tr><th scope=row>268</th><td>TX        </td><td>2017-04-21</td><td>16        </td><td>399       </td></tr>\n",
       "\t<tr><th scope=row>98</th><td>TX        </td><td>2017-04-24</td><td>17        </td><td>878       </td></tr>\n",
       "\t<tr><th scope=row>207</th><td>TX        </td><td>2017-04-25</td><td>17        </td><td>957       </td></tr>\n",
       "\t<tr><th scope=row>209</th><td>TX        </td><td>2017-04-26</td><td>17        </td><td>1257      </td></tr>\n",
       "\t<tr><th scope=row>340</th><td>TX        </td><td>2017-04-27</td><td>17        </td><td>853       </td></tr>\n",
       "\t<tr><th scope=row>341</th><td>TX        </td><td>2017-04-28</td><td>17        </td><td>1231      </td></tr>\n",
       "\t<tr><th scope=row>248</th><td>TX        </td><td>2017-05-01</td><td>18        </td><td>710       </td></tr>\n",
       "\t<tr><th scope=row>65</th><td>TX        </td><td>2017-05-02</td><td>18        </td><td>1004      </td></tr>\n",
       "\t<tr><th scope=row>307</th><td>TX        </td><td>2017-05-03</td><td>18        </td><td>630       </td></tr>\n",
       "\t<tr><th scope=row>135</th><td>TX        </td><td>2017-05-04</td><td>18        </td><td>675       </td></tr>\n",
       "\t<tr><th scope=row>27</th><td>TX        </td><td>2017-05-05</td><td>18        </td><td>777       </td></tr>\n",
       "</tbody>\n",
       "</table>\n"
      ],
      "text/latex": [
       "\\begin{tabular}{r|llll}\n",
       "  & Origin & DATE & Week & OrdersToBeProcessed\\\\\n",
       "\\hline\n",
       "\t1 & TX         & 2017-02-01 & 5          & 747       \\\\\n",
       "\t104 & TX         & 2017-02-02 & 5          & 981       \\\\\n",
       "\t106 & TX         & 2017-02-03 & 5          & 1139      \\\\\n",
       "\t217 & TX         & 2017-02-06 & 6          & 1366      \\\\\n",
       "\t30 & TX         & 2017-02-07 & 6          & 783       \\\\\n",
       "\t68 & TX         & 2017-02-08 & 6          & 1009      \\\\\n",
       "\t312 & TX         & 2017-02-09 & 6          & 979       \\\\\n",
       "\t314 & TX         & 2017-02-10 & 6          & 853       \\\\\n",
       "\t35 & TX         & 2017-02-13 & 7          & 797       \\\\\n",
       "\t277 & TX         & 2017-02-14 & 7          & 1004      \\\\\n",
       "\t37 & TX         & 2017-02-15 & 7          & 518       \\\\\n",
       "\t38 & TX         & 2017-02-16 & 7          & 1306      \\\\\n",
       "\t317 & TX         & 2017-02-17 & 7          & 889       \\\\\n",
       "\t180 & TX         & 2017-02-20 & 8          & 578       \\\\\n",
       "\t115 & TX         & 2017-02-21 & 8          & 855       \\\\\n",
       "\t223 & TX         & 2017-02-22 & 8          & 679       \\\\\n",
       "\t280 & TX         & 2017-02-23 & 8          & 584       \\\\\n",
       "\t257 & TX         & 2017-02-24 & 8          & 887       \\\\\n",
       "\t118 & TX         & 2017-02-27 & 9          & 1066      \\\\\n",
       "\t8 & TX         & 2017-02-28 & 9          & 969       \\\\\n",
       "\t324 & TX         & 2017-03-01 & 9          & 528       \\\\\n",
       "\t225 & TX         & 2017-03-02 & 9          & 730       \\\\\n",
       "\t283 & TX         & 2017-03-03 & 9          & 624       \\\\\n",
       "\t327 & TX         & 2017-03-06 & 10         & 1537      \\\\\n",
       "\t329 & TX         & 2017-03-07 & 10         & 1111      \\\\\n",
       "\t330 & TX         & 2017-03-08 & 10         & 810       \\\\\n",
       "\t10 & TX         & 2017-03-09 & 10         & 969       \\\\\n",
       "\t46 & TX         & 2017-03-10 & 10         & 1071      \\\\\n",
       "\t48 & TX         & 2017-03-13 & 11         & 1133      \\\\\n",
       "\t150 & TX         & 2017-03-14 & 11         & 381       \\\\\n",
       "\t... & ... & ... & ... & ...\\\\\n",
       "\t292 & TX         & 2017-03-27 & 13         & 869       \\\\\n",
       "\t234 & TX         & 2017-03-28 & 13         & 971       \\\\\n",
       "\t87 & TX         & 2017-03-29 & 13         & 922       \\\\\n",
       "\t89 & TX         & 2017-03-30 & 13         & 581       \\\\\n",
       "\t159 & TX         & 2017-03-31 & 13         & 652       \\\\\n",
       "\t335 & TX         & 2017-04-03 & 14         & 961       \\\\\n",
       "\t235 & TX         & 2017-04-04 & 14         & 967       \\\\\n",
       "\t297 & TX         & 2017-04-05 & 14         & 979       \\\\\n",
       "\t298 & TX         & 2017-04-06 & 14         & 916       \\\\\n",
       "\t240 & TX         & 2017-04-07 & 14         & 584       \\\\\n",
       "\t128 & TX         & 2017-04-10 & 15         & 1138      \\\\\n",
       "\t163 & TX         & 2017-04-11 & 15         & 893       \\\\\n",
       "\t129 & TX         & 2017-04-12 & 15         & 711       \\\\\n",
       "\t301 & TX         & 2017-04-13 & 15         & 1070      \\\\\n",
       "\t302 & TX         & 2017-04-14 & 15         & 570       \\\\\n",
       "\t204 & TX         & 2017-04-17 & 16         & 927       \\\\\n",
       "\t166 & TX         & 2017-04-18 & 16         & 1016      \\\\\n",
       "\t132 & TX         & 2017-04-19 & 16         & 612       \\\\\n",
       "\t168 & TX         & 2017-04-20 & 16         & 748       \\\\\n",
       "\t268 & TX         & 2017-04-21 & 16         & 399       \\\\\n",
       "\t98 & TX         & 2017-04-24 & 17         & 878       \\\\\n",
       "\t207 & TX         & 2017-04-25 & 17         & 957       \\\\\n",
       "\t209 & TX         & 2017-04-26 & 17         & 1257      \\\\\n",
       "\t340 & TX         & 2017-04-27 & 17         & 853       \\\\\n",
       "\t341 & TX         & 2017-04-28 & 17         & 1231      \\\\\n",
       "\t248 & TX         & 2017-05-01 & 18         & 710       \\\\\n",
       "\t65 & TX         & 2017-05-02 & 18         & 1004      \\\\\n",
       "\t307 & TX         & 2017-05-03 & 18         & 630       \\\\\n",
       "\t135 & TX         & 2017-05-04 & 18         & 675       \\\\\n",
       "\t27 & TX         & 2017-05-05 & 18         & 777       \\\\\n",
       "\\end{tabular}\n"
      ],
      "text/markdown": [
       "\n",
       "| <!--/--> | Origin | DATE | Week | OrdersToBeProcessed | \n",
       "|---|---|---|---|---|---|---|---|---|---|---|---|---|---|---|---|---|---|---|---|---|---|---|---|---|---|---|---|---|---|---|---|---|---|---|---|---|---|---|---|---|---|---|---|---|---|---|---|---|---|---|---|---|---|---|---|---|---|---|---|---|\n",
       "| 1 | TX         | 2017-02-01 | 5          | 747        | \n",
       "| 104 | TX         | 2017-02-02 | 5          | 981        | \n",
       "| 106 | TX         | 2017-02-03 | 5          | 1139       | \n",
       "| 217 | TX         | 2017-02-06 | 6          | 1366       | \n",
       "| 30 | TX         | 2017-02-07 | 6          | 783        | \n",
       "| 68 | TX         | 2017-02-08 | 6          | 1009       | \n",
       "| 312 | TX         | 2017-02-09 | 6          | 979        | \n",
       "| 314 | TX         | 2017-02-10 | 6          | 853        | \n",
       "| 35 | TX         | 2017-02-13 | 7          | 797        | \n",
       "| 277 | TX         | 2017-02-14 | 7          | 1004       | \n",
       "| 37 | TX         | 2017-02-15 | 7          | 518        | \n",
       "| 38 | TX         | 2017-02-16 | 7          | 1306       | \n",
       "| 317 | TX         | 2017-02-17 | 7          | 889        | \n",
       "| 180 | TX         | 2017-02-20 | 8          | 578        | \n",
       "| 115 | TX         | 2017-02-21 | 8          | 855        | \n",
       "| 223 | TX         | 2017-02-22 | 8          | 679        | \n",
       "| 280 | TX         | 2017-02-23 | 8          | 584        | \n",
       "| 257 | TX         | 2017-02-24 | 8          | 887        | \n",
       "| 118 | TX         | 2017-02-27 | 9          | 1066       | \n",
       "| 8 | TX         | 2017-02-28 | 9          | 969        | \n",
       "| 324 | TX         | 2017-03-01 | 9          | 528        | \n",
       "| 225 | TX         | 2017-03-02 | 9          | 730        | \n",
       "| 283 | TX         | 2017-03-03 | 9          | 624        | \n",
       "| 327 | TX         | 2017-03-06 | 10         | 1537       | \n",
       "| 329 | TX         | 2017-03-07 | 10         | 1111       | \n",
       "| 330 | TX         | 2017-03-08 | 10         | 810        | \n",
       "| 10 | TX         | 2017-03-09 | 10         | 969        | \n",
       "| 46 | TX         | 2017-03-10 | 10         | 1071       | \n",
       "| 48 | TX         | 2017-03-13 | 11         | 1133       | \n",
       "| 150 | TX         | 2017-03-14 | 11         | 381        | \n",
       "| ... | ... | ... | ... | ... | \n",
       "| 292 | TX         | 2017-03-27 | 13         | 869        | \n",
       "| 234 | TX         | 2017-03-28 | 13         | 971        | \n",
       "| 87 | TX         | 2017-03-29 | 13         | 922        | \n",
       "| 89 | TX         | 2017-03-30 | 13         | 581        | \n",
       "| 159 | TX         | 2017-03-31 | 13         | 652        | \n",
       "| 335 | TX         | 2017-04-03 | 14         | 961        | \n",
       "| 235 | TX         | 2017-04-04 | 14         | 967        | \n",
       "| 297 | TX         | 2017-04-05 | 14         | 979        | \n",
       "| 298 | TX         | 2017-04-06 | 14         | 916        | \n",
       "| 240 | TX         | 2017-04-07 | 14         | 584        | \n",
       "| 128 | TX         | 2017-04-10 | 15         | 1138       | \n",
       "| 163 | TX         | 2017-04-11 | 15         | 893        | \n",
       "| 129 | TX         | 2017-04-12 | 15         | 711        | \n",
       "| 301 | TX         | 2017-04-13 | 15         | 1070       | \n",
       "| 302 | TX         | 2017-04-14 | 15         | 570        | \n",
       "| 204 | TX         | 2017-04-17 | 16         | 927        | \n",
       "| 166 | TX         | 2017-04-18 | 16         | 1016       | \n",
       "| 132 | TX         | 2017-04-19 | 16         | 612        | \n",
       "| 168 | TX         | 2017-04-20 | 16         | 748        | \n",
       "| 268 | TX         | 2017-04-21 | 16         | 399        | \n",
       "| 98 | TX         | 2017-04-24 | 17         | 878        | \n",
       "| 207 | TX         | 2017-04-25 | 17         | 957        | \n",
       "| 209 | TX         | 2017-04-26 | 17         | 1257       | \n",
       "| 340 | TX         | 2017-04-27 | 17         | 853        | \n",
       "| 341 | TX         | 2017-04-28 | 17         | 1231       | \n",
       "| 248 | TX         | 2017-05-01 | 18         | 710        | \n",
       "| 65 | TX         | 2017-05-02 | 18         | 1004       | \n",
       "| 307 | TX         | 2017-05-03 | 18         | 630        | \n",
       "| 135 | TX         | 2017-05-04 | 18         | 675        | \n",
       "| 27 | TX         | 2017-05-05 | 18         | 777        | \n",
       "\n",
       "\n"
      ],
      "text/plain": [
       "    Origin DATE       Week OrdersToBeProcessed\n",
       "1   TX     2017-02-01 5    747                \n",
       "104 TX     2017-02-02 5    981                \n",
       "106 TX     2017-02-03 5    1139               \n",
       "217 TX     2017-02-06 6    1366               \n",
       "30  TX     2017-02-07 6    783                \n",
       "68  TX     2017-02-08 6    1009               \n",
       "312 TX     2017-02-09 6    979                \n",
       "314 TX     2017-02-10 6    853                \n",
       "35  TX     2017-02-13 7    797                \n",
       "277 TX     2017-02-14 7    1004               \n",
       "37  TX     2017-02-15 7    518                \n",
       "38  TX     2017-02-16 7    1306               \n",
       "317 TX     2017-02-17 7    889                \n",
       "180 TX     2017-02-20 8    578                \n",
       "115 TX     2017-02-21 8    855                \n",
       "223 TX     2017-02-22 8    679                \n",
       "280 TX     2017-02-23 8    584                \n",
       "257 TX     2017-02-24 8    887                \n",
       "118 TX     2017-02-27 9    1066               \n",
       "8   TX     2017-02-28 9    969                \n",
       "324 TX     2017-03-01 9    528                \n",
       "225 TX     2017-03-02 9    730                \n",
       "283 TX     2017-03-03 9    624                \n",
       "327 TX     2017-03-06 10   1537               \n",
       "329 TX     2017-03-07 10   1111               \n",
       "330 TX     2017-03-08 10   810                \n",
       "10  TX     2017-03-09 10   969                \n",
       "46  TX     2017-03-10 10   1071               \n",
       "48  TX     2017-03-13 11   1133               \n",
       "150 TX     2017-03-14 11   381                \n",
       "... ...    ...        ...  ...                \n",
       "292 TX     2017-03-27 13   869                \n",
       "234 TX     2017-03-28 13   971                \n",
       "87  TX     2017-03-29 13   922                \n",
       "89  TX     2017-03-30 13   581                \n",
       "159 TX     2017-03-31 13   652                \n",
       "335 TX     2017-04-03 14   961                \n",
       "235 TX     2017-04-04 14   967                \n",
       "297 TX     2017-04-05 14   979                \n",
       "298 TX     2017-04-06 14   916                \n",
       "240 TX     2017-04-07 14   584                \n",
       "128 TX     2017-04-10 15   1138               \n",
       "163 TX     2017-04-11 15   893                \n",
       "129 TX     2017-04-12 15   711                \n",
       "301 TX     2017-04-13 15   1070               \n",
       "302 TX     2017-04-14 15   570                \n",
       "204 TX     2017-04-17 16   927                \n",
       "166 TX     2017-04-18 16   1016               \n",
       "132 TX     2017-04-19 16   612                \n",
       "168 TX     2017-04-20 16   748                \n",
       "268 TX     2017-04-21 16   399                \n",
       "98  TX     2017-04-24 17   878                \n",
       "207 TX     2017-04-25 17   957                \n",
       "209 TX     2017-04-26 17   1257               \n",
       "340 TX     2017-04-27 17   853                \n",
       "341 TX     2017-04-28 17   1231               \n",
       "248 TX     2017-05-01 18   710                \n",
       "65  TX     2017-05-02 18   1004               \n",
       "307 TX     2017-05-03 18   630                \n",
       "135 TX     2017-05-04 18   675                \n",
       "27  TX     2017-05-05 18   777                "
      ]
     },
     "metadata": {},
     "output_type": "display_data"
    }
   ],
   "source": [
    "TX_Orders"
   ]
  },
  {
   "cell_type": "code",
   "execution_count": 9,
   "metadata": {
    "collapsed": false
   },
   "outputs": [],
   "source": [
    "#Removing the columns that are not needed\n",
    "TX_Orders<-TX_Orders[,c('DATE','OrdersToBeProcessed')]"
   ]
  },
  {
   "cell_type": "code",
   "execution_count": 10,
   "metadata": {
    "collapsed": false
   },
   "outputs": [
    {
     "data": {
      "text/html": [
       "<table>\n",
       "<thead><tr><th></th><th scope=col>DATE</th><th scope=col>OrdersToBeProcessed</th></tr></thead>\n",
       "<tbody>\n",
       "\t<tr><th scope=row>1</th><td>2017-02-01</td><td>747       </td></tr>\n",
       "\t<tr><th scope=row>104</th><td>2017-02-02</td><td>981       </td></tr>\n",
       "\t<tr><th scope=row>106</th><td>2017-02-03</td><td>1139      </td></tr>\n",
       "\t<tr><th scope=row>217</th><td>2017-02-06</td><td>1366      </td></tr>\n",
       "\t<tr><th scope=row>30</th><td>2017-02-07</td><td>783       </td></tr>\n",
       "\t<tr><th scope=row>68</th><td>2017-02-08</td><td>1009      </td></tr>\n",
       "\t<tr><th scope=row>312</th><td>2017-02-09</td><td>979       </td></tr>\n",
       "\t<tr><th scope=row>314</th><td>2017-02-10</td><td>853       </td></tr>\n",
       "\t<tr><th scope=row>35</th><td>2017-02-13</td><td>797       </td></tr>\n",
       "\t<tr><th scope=row>277</th><td>2017-02-14</td><td>1004      </td></tr>\n",
       "\t<tr><th scope=row>37</th><td>2017-02-15</td><td>518       </td></tr>\n",
       "\t<tr><th scope=row>38</th><td>2017-02-16</td><td>1306      </td></tr>\n",
       "\t<tr><th scope=row>317</th><td>2017-02-17</td><td>889       </td></tr>\n",
       "\t<tr><th scope=row>180</th><td>2017-02-20</td><td>578       </td></tr>\n",
       "\t<tr><th scope=row>115</th><td>2017-02-21</td><td>855       </td></tr>\n",
       "\t<tr><th scope=row>223</th><td>2017-02-22</td><td>679       </td></tr>\n",
       "\t<tr><th scope=row>280</th><td>2017-02-23</td><td>584       </td></tr>\n",
       "\t<tr><th scope=row>257</th><td>2017-02-24</td><td>887       </td></tr>\n",
       "\t<tr><th scope=row>118</th><td>2017-02-27</td><td>1066      </td></tr>\n",
       "\t<tr><th scope=row>8</th><td>2017-02-28</td><td>969       </td></tr>\n",
       "\t<tr><th scope=row>324</th><td>2017-03-01</td><td>528       </td></tr>\n",
       "\t<tr><th scope=row>225</th><td>2017-03-02</td><td>730       </td></tr>\n",
       "\t<tr><th scope=row>283</th><td>2017-03-03</td><td>624       </td></tr>\n",
       "\t<tr><th scope=row>327</th><td>2017-03-06</td><td>1537      </td></tr>\n",
       "\t<tr><th scope=row>329</th><td>2017-03-07</td><td>1111      </td></tr>\n",
       "\t<tr><th scope=row>330</th><td>2017-03-08</td><td>810       </td></tr>\n",
       "\t<tr><th scope=row>10</th><td>2017-03-09</td><td>969       </td></tr>\n",
       "\t<tr><th scope=row>46</th><td>2017-03-10</td><td>1071      </td></tr>\n",
       "\t<tr><th scope=row>48</th><td>2017-03-13</td><td>1133      </td></tr>\n",
       "\t<tr><th scope=row>150</th><td>2017-03-14</td><td>381       </td></tr>\n",
       "\t<tr><th scope=row>...</th><td>...</td><td>...</td></tr>\n",
       "\t<tr><th scope=row>292</th><td>2017-03-27</td><td>869       </td></tr>\n",
       "\t<tr><th scope=row>234</th><td>2017-03-28</td><td>971       </td></tr>\n",
       "\t<tr><th scope=row>87</th><td>2017-03-29</td><td>922       </td></tr>\n",
       "\t<tr><th scope=row>89</th><td>2017-03-30</td><td>581       </td></tr>\n",
       "\t<tr><th scope=row>159</th><td>2017-03-31</td><td>652       </td></tr>\n",
       "\t<tr><th scope=row>335</th><td>2017-04-03</td><td>961       </td></tr>\n",
       "\t<tr><th scope=row>235</th><td>2017-04-04</td><td>967       </td></tr>\n",
       "\t<tr><th scope=row>297</th><td>2017-04-05</td><td>979       </td></tr>\n",
       "\t<tr><th scope=row>298</th><td>2017-04-06</td><td>916       </td></tr>\n",
       "\t<tr><th scope=row>240</th><td>2017-04-07</td><td>584       </td></tr>\n",
       "\t<tr><th scope=row>128</th><td>2017-04-10</td><td>1138      </td></tr>\n",
       "\t<tr><th scope=row>163</th><td>2017-04-11</td><td>893       </td></tr>\n",
       "\t<tr><th scope=row>129</th><td>2017-04-12</td><td>711       </td></tr>\n",
       "\t<tr><th scope=row>301</th><td>2017-04-13</td><td>1070      </td></tr>\n",
       "\t<tr><th scope=row>302</th><td>2017-04-14</td><td>570       </td></tr>\n",
       "\t<tr><th scope=row>204</th><td>2017-04-17</td><td>927       </td></tr>\n",
       "\t<tr><th scope=row>166</th><td>2017-04-18</td><td>1016      </td></tr>\n",
       "\t<tr><th scope=row>132</th><td>2017-04-19</td><td>612       </td></tr>\n",
       "\t<tr><th scope=row>168</th><td>2017-04-20</td><td>748       </td></tr>\n",
       "\t<tr><th scope=row>268</th><td>2017-04-21</td><td>399       </td></tr>\n",
       "\t<tr><th scope=row>98</th><td>2017-04-24</td><td>878       </td></tr>\n",
       "\t<tr><th scope=row>207</th><td>2017-04-25</td><td>957       </td></tr>\n",
       "\t<tr><th scope=row>209</th><td>2017-04-26</td><td>1257      </td></tr>\n",
       "\t<tr><th scope=row>340</th><td>2017-04-27</td><td>853       </td></tr>\n",
       "\t<tr><th scope=row>341</th><td>2017-04-28</td><td>1231      </td></tr>\n",
       "\t<tr><th scope=row>248</th><td>2017-05-01</td><td>710       </td></tr>\n",
       "\t<tr><th scope=row>65</th><td>2017-05-02</td><td>1004      </td></tr>\n",
       "\t<tr><th scope=row>307</th><td>2017-05-03</td><td>630       </td></tr>\n",
       "\t<tr><th scope=row>135</th><td>2017-05-04</td><td>675       </td></tr>\n",
       "\t<tr><th scope=row>27</th><td>2017-05-05</td><td>777       </td></tr>\n",
       "</tbody>\n",
       "</table>\n"
      ],
      "text/latex": [
       "\\begin{tabular}{r|ll}\n",
       "  & DATE & OrdersToBeProcessed\\\\\n",
       "\\hline\n",
       "\t1 & 2017-02-01 & 747       \\\\\n",
       "\t104 & 2017-02-02 & 981       \\\\\n",
       "\t106 & 2017-02-03 & 1139      \\\\\n",
       "\t217 & 2017-02-06 & 1366      \\\\\n",
       "\t30 & 2017-02-07 & 783       \\\\\n",
       "\t68 & 2017-02-08 & 1009      \\\\\n",
       "\t312 & 2017-02-09 & 979       \\\\\n",
       "\t314 & 2017-02-10 & 853       \\\\\n",
       "\t35 & 2017-02-13 & 797       \\\\\n",
       "\t277 & 2017-02-14 & 1004      \\\\\n",
       "\t37 & 2017-02-15 & 518       \\\\\n",
       "\t38 & 2017-02-16 & 1306      \\\\\n",
       "\t317 & 2017-02-17 & 889       \\\\\n",
       "\t180 & 2017-02-20 & 578       \\\\\n",
       "\t115 & 2017-02-21 & 855       \\\\\n",
       "\t223 & 2017-02-22 & 679       \\\\\n",
       "\t280 & 2017-02-23 & 584       \\\\\n",
       "\t257 & 2017-02-24 & 887       \\\\\n",
       "\t118 & 2017-02-27 & 1066      \\\\\n",
       "\t8 & 2017-02-28 & 969       \\\\\n",
       "\t324 & 2017-03-01 & 528       \\\\\n",
       "\t225 & 2017-03-02 & 730       \\\\\n",
       "\t283 & 2017-03-03 & 624       \\\\\n",
       "\t327 & 2017-03-06 & 1537      \\\\\n",
       "\t329 & 2017-03-07 & 1111      \\\\\n",
       "\t330 & 2017-03-08 & 810       \\\\\n",
       "\t10 & 2017-03-09 & 969       \\\\\n",
       "\t46 & 2017-03-10 & 1071      \\\\\n",
       "\t48 & 2017-03-13 & 1133      \\\\\n",
       "\t150 & 2017-03-14 & 381       \\\\\n",
       "\t... & ... & ...\\\\\n",
       "\t292 & 2017-03-27 & 869       \\\\\n",
       "\t234 & 2017-03-28 & 971       \\\\\n",
       "\t87 & 2017-03-29 & 922       \\\\\n",
       "\t89 & 2017-03-30 & 581       \\\\\n",
       "\t159 & 2017-03-31 & 652       \\\\\n",
       "\t335 & 2017-04-03 & 961       \\\\\n",
       "\t235 & 2017-04-04 & 967       \\\\\n",
       "\t297 & 2017-04-05 & 979       \\\\\n",
       "\t298 & 2017-04-06 & 916       \\\\\n",
       "\t240 & 2017-04-07 & 584       \\\\\n",
       "\t128 & 2017-04-10 & 1138      \\\\\n",
       "\t163 & 2017-04-11 & 893       \\\\\n",
       "\t129 & 2017-04-12 & 711       \\\\\n",
       "\t301 & 2017-04-13 & 1070      \\\\\n",
       "\t302 & 2017-04-14 & 570       \\\\\n",
       "\t204 & 2017-04-17 & 927       \\\\\n",
       "\t166 & 2017-04-18 & 1016      \\\\\n",
       "\t132 & 2017-04-19 & 612       \\\\\n",
       "\t168 & 2017-04-20 & 748       \\\\\n",
       "\t268 & 2017-04-21 & 399       \\\\\n",
       "\t98 & 2017-04-24 & 878       \\\\\n",
       "\t207 & 2017-04-25 & 957       \\\\\n",
       "\t209 & 2017-04-26 & 1257      \\\\\n",
       "\t340 & 2017-04-27 & 853       \\\\\n",
       "\t341 & 2017-04-28 & 1231      \\\\\n",
       "\t248 & 2017-05-01 & 710       \\\\\n",
       "\t65 & 2017-05-02 & 1004      \\\\\n",
       "\t307 & 2017-05-03 & 630       \\\\\n",
       "\t135 & 2017-05-04 & 675       \\\\\n",
       "\t27 & 2017-05-05 & 777       \\\\\n",
       "\\end{tabular}\n"
      ],
      "text/markdown": [
       "\n",
       "| <!--/--> | DATE | OrdersToBeProcessed | \n",
       "|---|---|---|---|---|---|---|---|---|---|---|---|---|---|---|---|---|---|---|---|---|---|---|---|---|---|---|---|---|---|---|---|---|---|---|---|---|---|---|---|---|---|---|---|---|---|---|---|---|---|---|---|---|---|---|---|---|---|---|---|---|\n",
       "| 1 | 2017-02-01 | 747        | \n",
       "| 104 | 2017-02-02 | 981        | \n",
       "| 106 | 2017-02-03 | 1139       | \n",
       "| 217 | 2017-02-06 | 1366       | \n",
       "| 30 | 2017-02-07 | 783        | \n",
       "| 68 | 2017-02-08 | 1009       | \n",
       "| 312 | 2017-02-09 | 979        | \n",
       "| 314 | 2017-02-10 | 853        | \n",
       "| 35 | 2017-02-13 | 797        | \n",
       "| 277 | 2017-02-14 | 1004       | \n",
       "| 37 | 2017-02-15 | 518        | \n",
       "| 38 | 2017-02-16 | 1306       | \n",
       "| 317 | 2017-02-17 | 889        | \n",
       "| 180 | 2017-02-20 | 578        | \n",
       "| 115 | 2017-02-21 | 855        | \n",
       "| 223 | 2017-02-22 | 679        | \n",
       "| 280 | 2017-02-23 | 584        | \n",
       "| 257 | 2017-02-24 | 887        | \n",
       "| 118 | 2017-02-27 | 1066       | \n",
       "| 8 | 2017-02-28 | 969        | \n",
       "| 324 | 2017-03-01 | 528        | \n",
       "| 225 | 2017-03-02 | 730        | \n",
       "| 283 | 2017-03-03 | 624        | \n",
       "| 327 | 2017-03-06 | 1537       | \n",
       "| 329 | 2017-03-07 | 1111       | \n",
       "| 330 | 2017-03-08 | 810        | \n",
       "| 10 | 2017-03-09 | 969        | \n",
       "| 46 | 2017-03-10 | 1071       | \n",
       "| 48 | 2017-03-13 | 1133       | \n",
       "| 150 | 2017-03-14 | 381        | \n",
       "| ... | ... | ... | \n",
       "| 292 | 2017-03-27 | 869        | \n",
       "| 234 | 2017-03-28 | 971        | \n",
       "| 87 | 2017-03-29 | 922        | \n",
       "| 89 | 2017-03-30 | 581        | \n",
       "| 159 | 2017-03-31 | 652        | \n",
       "| 335 | 2017-04-03 | 961        | \n",
       "| 235 | 2017-04-04 | 967        | \n",
       "| 297 | 2017-04-05 | 979        | \n",
       "| 298 | 2017-04-06 | 916        | \n",
       "| 240 | 2017-04-07 | 584        | \n",
       "| 128 | 2017-04-10 | 1138       | \n",
       "| 163 | 2017-04-11 | 893        | \n",
       "| 129 | 2017-04-12 | 711        | \n",
       "| 301 | 2017-04-13 | 1070       | \n",
       "| 302 | 2017-04-14 | 570        | \n",
       "| 204 | 2017-04-17 | 927        | \n",
       "| 166 | 2017-04-18 | 1016       | \n",
       "| 132 | 2017-04-19 | 612        | \n",
       "| 168 | 2017-04-20 | 748        | \n",
       "| 268 | 2017-04-21 | 399        | \n",
       "| 98 | 2017-04-24 | 878        | \n",
       "| 207 | 2017-04-25 | 957        | \n",
       "| 209 | 2017-04-26 | 1257       | \n",
       "| 340 | 2017-04-27 | 853        | \n",
       "| 341 | 2017-04-28 | 1231       | \n",
       "| 248 | 2017-05-01 | 710        | \n",
       "| 65 | 2017-05-02 | 1004       | \n",
       "| 307 | 2017-05-03 | 630        | \n",
       "| 135 | 2017-05-04 | 675        | \n",
       "| 27 | 2017-05-05 | 777        | \n",
       "\n",
       "\n"
      ],
      "text/plain": [
       "    DATE       OrdersToBeProcessed\n",
       "1   2017-02-01 747                \n",
       "104 2017-02-02 981                \n",
       "106 2017-02-03 1139               \n",
       "217 2017-02-06 1366               \n",
       "30  2017-02-07 783                \n",
       "68  2017-02-08 1009               \n",
       "312 2017-02-09 979                \n",
       "314 2017-02-10 853                \n",
       "35  2017-02-13 797                \n",
       "277 2017-02-14 1004               \n",
       "37  2017-02-15 518                \n",
       "38  2017-02-16 1306               \n",
       "317 2017-02-17 889                \n",
       "180 2017-02-20 578                \n",
       "115 2017-02-21 855                \n",
       "223 2017-02-22 679                \n",
       "280 2017-02-23 584                \n",
       "257 2017-02-24 887                \n",
       "118 2017-02-27 1066               \n",
       "8   2017-02-28 969                \n",
       "324 2017-03-01 528                \n",
       "225 2017-03-02 730                \n",
       "283 2017-03-03 624                \n",
       "327 2017-03-06 1537               \n",
       "329 2017-03-07 1111               \n",
       "330 2017-03-08 810                \n",
       "10  2017-03-09 969                \n",
       "46  2017-03-10 1071               \n",
       "48  2017-03-13 1133               \n",
       "150 2017-03-14 381                \n",
       "... ...        ...                \n",
       "292 2017-03-27 869                \n",
       "234 2017-03-28 971                \n",
       "87  2017-03-29 922                \n",
       "89  2017-03-30 581                \n",
       "159 2017-03-31 652                \n",
       "335 2017-04-03 961                \n",
       "235 2017-04-04 967                \n",
       "297 2017-04-05 979                \n",
       "298 2017-04-06 916                \n",
       "240 2017-04-07 584                \n",
       "128 2017-04-10 1138               \n",
       "163 2017-04-11 893                \n",
       "129 2017-04-12 711                \n",
       "301 2017-04-13 1070               \n",
       "302 2017-04-14 570                \n",
       "204 2017-04-17 927                \n",
       "166 2017-04-18 1016               \n",
       "132 2017-04-19 612                \n",
       "168 2017-04-20 748                \n",
       "268 2017-04-21 399                \n",
       "98  2017-04-24 878                \n",
       "207 2017-04-25 957                \n",
       "209 2017-04-26 1257               \n",
       "340 2017-04-27 853                \n",
       "341 2017-04-28 1231               \n",
       "248 2017-05-01 710                \n",
       "65  2017-05-02 1004               \n",
       "307 2017-05-03 630                \n",
       "135 2017-05-04 675                \n",
       "27  2017-05-05 777                "
      ]
     },
     "metadata": {},
     "output_type": "display_data"
    }
   ],
   "source": [
    "TX_Orders"
   ]
  },
  {
   "cell_type": "code",
   "execution_count": 11,
   "metadata": {
    "collapsed": true
   },
   "outputs": [],
   "source": [
    "TX_Orders$OrdersToBeProcessed <- as.numeric(as.character(TX_Orders$OrdersToBeProcessed) )"
   ]
  },
  {
   "cell_type": "code",
   "execution_count": 12,
   "metadata": {
    "collapsed": false
   },
   "outputs": [
    {
     "name": "stderr",
     "output_type": "stream",
     "text": [
      "Loading required package: ggplot2\n"
     ]
    }
   ],
   "source": [
    "require('ggplot2')"
   ]
  },
  {
   "cell_type": "code",
   "execution_count": 13,
   "metadata": {
    "collapsed": false
   },
   "outputs": [
    {
     "data": {},
     "metadata": {},
     "output_type": "display_data"
    },
    {
     "data": {
      "image/png": "[encoded data removed]",
      "text/plain": [
       "plot without title"
      ]
     },
     "metadata": {},
     "output_type": "display_data"
    }
   ],
   "source": [
    "#The numbers in the 'OrdersToBeProcessed' column were read as characters\n",
    "#Converting the numbers in 'OrdersToBeProcessed' column to 'numeric' from 'character'\n",
    "ggplot(TX_Orders, aes(x=DATE, y=OrdersToBeProcessed)) + geom_line() + xlab('Date') + ylab('Orders to be processed from TX')\n"
   ]
  },
  {
   "cell_type": "code",
   "execution_count": 14,
   "metadata": {
    "collapsed": false
   },
   "outputs": [],
   "source": [
    "#Changing the index to show dates\n",
    "rownames(TX_Orders) <- TX_Orders$DATE"
   ]
  },
  {
   "cell_type": "code",
   "execution_count": 15,
   "metadata": {
    "collapsed": false
   },
   "outputs": [],
   "source": [
    "TX_Orders <- TX_Orders[seq(63),]"
   ]
  },
  {
   "cell_type": "code",
   "execution_count": 16,
   "metadata": {
    "collapsed": true
   },
   "outputs": [],
   "source": [
    "TX_Orders$DATE <- NULL"
   ]
  },
  {
   "cell_type": "code",
   "execution_count": 17,
   "metadata": {
    "collapsed": false
   },
   "outputs": [
    {
     "data": {
      "text/html": [
       "<table>\n",
       "<thead><tr><th></th><th scope=col>OrdersToBeProcessed</th></tr></thead>\n",
       "<tbody>\n",
       "\t<tr><th scope=row>2017-02-01</th><td> 747</td></tr>\n",
       "\t<tr><th scope=row>2017-02-02</th><td> 981</td></tr>\n",
       "\t<tr><th scope=row>2017-02-03</th><td>1139</td></tr>\n",
       "\t<tr><th scope=row>2017-02-06</th><td>1366</td></tr>\n",
       "\t<tr><th scope=row>2017-02-07</th><td> 783</td></tr>\n",
       "\t<tr><th scope=row>2017-02-08</th><td>1009</td></tr>\n",
       "\t<tr><th scope=row>2017-02-09</th><td> 979</td></tr>\n",
       "\t<tr><th scope=row>2017-02-10</th><td> 853</td></tr>\n",
       "\t<tr><th scope=row>2017-02-13</th><td> 797</td></tr>\n",
       "\t<tr><th scope=row>2017-02-14</th><td>1004</td></tr>\n",
       "\t<tr><th scope=row>2017-02-15</th><td> 518</td></tr>\n",
       "\t<tr><th scope=row>2017-02-16</th><td>1306</td></tr>\n",
       "\t<tr><th scope=row>2017-02-17</th><td> 889</td></tr>\n",
       "\t<tr><th scope=row>2017-02-20</th><td> 578</td></tr>\n",
       "\t<tr><th scope=row>2017-02-21</th><td> 855</td></tr>\n",
       "\t<tr><th scope=row>2017-02-22</th><td> 679</td></tr>\n",
       "\t<tr><th scope=row>2017-02-23</th><td> 584</td></tr>\n",
       "\t<tr><th scope=row>2017-02-24</th><td> 887</td></tr>\n",
       "\t<tr><th scope=row>2017-02-27</th><td>1066</td></tr>\n",
       "\t<tr><th scope=row>2017-02-28</th><td> 969</td></tr>\n",
       "\t<tr><th scope=row>2017-03-01</th><td> 528</td></tr>\n",
       "\t<tr><th scope=row>2017-03-02</th><td> 730</td></tr>\n",
       "\t<tr><th scope=row>2017-03-03</th><td> 624</td></tr>\n",
       "\t<tr><th scope=row>2017-03-06</th><td>1537</td></tr>\n",
       "\t<tr><th scope=row>2017-03-07</th><td>1111</td></tr>\n",
       "\t<tr><th scope=row>2017-03-08</th><td> 810</td></tr>\n",
       "\t<tr><th scope=row>2017-03-09</th><td> 969</td></tr>\n",
       "\t<tr><th scope=row>2017-03-10</th><td>1071</td></tr>\n",
       "\t<tr><th scope=row>2017-03-13</th><td>1133</td></tr>\n",
       "\t<tr><th scope=row>2017-03-14</th><td> 381</td></tr>\n",
       "\t<tr><th scope=row>...</th><td>...</td></tr>\n",
       "\t<tr><th scope=row>2017-03-20</th><td> 865</td></tr>\n",
       "\t<tr><th scope=row>2017-03-21</th><td> 636</td></tr>\n",
       "\t<tr><th scope=row>2017-03-22</th><td> 849</td></tr>\n",
       "\t<tr><th scope=row>2017-03-23</th><td> 828</td></tr>\n",
       "\t<tr><th scope=row>2017-03-24</th><td> 903</td></tr>\n",
       "\t<tr><th scope=row>2017-03-27</th><td> 869</td></tr>\n",
       "\t<tr><th scope=row>2017-03-28</th><td> 971</td></tr>\n",
       "\t<tr><th scope=row>2017-03-29</th><td> 922</td></tr>\n",
       "\t<tr><th scope=row>2017-03-30</th><td> 581</td></tr>\n",
       "\t<tr><th scope=row>2017-03-31</th><td> 652</td></tr>\n",
       "\t<tr><th scope=row>2017-04-03</th><td> 961</td></tr>\n",
       "\t<tr><th scope=row>2017-04-04</th><td> 967</td></tr>\n",
       "\t<tr><th scope=row>2017-04-05</th><td> 979</td></tr>\n",
       "\t<tr><th scope=row>2017-04-06</th><td> 916</td></tr>\n",
       "\t<tr><th scope=row>2017-04-07</th><td> 584</td></tr>\n",
       "\t<tr><th scope=row>2017-04-10</th><td>1138</td></tr>\n",
       "\t<tr><th scope=row>2017-04-11</th><td> 893</td></tr>\n",
       "\t<tr><th scope=row>2017-04-12</th><td> 711</td></tr>\n",
       "\t<tr><th scope=row>2017-04-13</th><td>1070</td></tr>\n",
       "\t<tr><th scope=row>2017-04-14</th><td> 570</td></tr>\n",
       "\t<tr><th scope=row>2017-04-17</th><td> 927</td></tr>\n",
       "\t<tr><th scope=row>2017-04-18</th><td>1016</td></tr>\n",
       "\t<tr><th scope=row>2017-04-19</th><td> 612</td></tr>\n",
       "\t<tr><th scope=row>2017-04-20</th><td> 748</td></tr>\n",
       "\t<tr><th scope=row>2017-04-21</th><td> 399</td></tr>\n",
       "\t<tr><th scope=row>2017-04-24</th><td> 878</td></tr>\n",
       "\t<tr><th scope=row>2017-04-25</th><td> 957</td></tr>\n",
       "\t<tr><th scope=row>2017-04-26</th><td>1257</td></tr>\n",
       "\t<tr><th scope=row>2017-04-27</th><td> 853</td></tr>\n",
       "\t<tr><th scope=row>2017-04-28</th><td>1231</td></tr>\n",
       "</tbody>\n",
       "</table>\n"
      ],
      "text/latex": [
       "\\begin{tabular}{r|l}\n",
       "  & OrdersToBeProcessed\\\\\n",
       "\\hline\n",
       "\t2017-02-01 &  747\\\\\n",
       "\t2017-02-02 &  981\\\\\n",
       "\t2017-02-03 & 1139\\\\\n",
       "\t2017-02-06 & 1366\\\\\n",
       "\t2017-02-07 &  783\\\\\n",
       "\t2017-02-08 & 1009\\\\\n",
       "\t2017-02-09 &  979\\\\\n",
       "\t2017-02-10 &  853\\\\\n",
       "\t2017-02-13 &  797\\\\\n",
       "\t2017-02-14 & 1004\\\\\n",
       "\t2017-02-15 &  518\\\\\n",
       "\t2017-02-16 & 1306\\\\\n",
       "\t2017-02-17 &  889\\\\\n",
       "\t2017-02-20 &  578\\\\\n",
       "\t2017-02-21 &  855\\\\\n",
       "\t2017-02-22 &  679\\\\\n",
       "\t2017-02-23 &  584\\\\\n",
       "\t2017-02-24 &  887\\\\\n",
       "\t2017-02-27 & 1066\\\\\n",
       "\t2017-02-28 &  969\\\\\n",
       "\t2017-03-01 &  528\\\\\n",
       "\t2017-03-02 &  730\\\\\n",
       "\t2017-03-03 &  624\\\\\n",
       "\t2017-03-06 & 1537\\\\\n",
       "\t2017-03-07 & 1111\\\\\n",
       "\t2017-03-08 &  810\\\\\n",
       "\t2017-03-09 &  969\\\\\n",
       "\t2017-03-10 & 1071\\\\\n",
       "\t2017-03-13 & 1133\\\\\n",
       "\t2017-03-14 &  381\\\\\n",
       "\t... & ...\\\\\n",
       "\t2017-03-20 &  865\\\\\n",
       "\t2017-03-21 &  636\\\\\n",
       "\t2017-03-22 &  849\\\\\n",
       "\t2017-03-23 &  828\\\\\n",
       "\t2017-03-24 &  903\\\\\n",
       "\t2017-03-27 &  869\\\\\n",
       "\t2017-03-28 &  971\\\\\n",
       "\t2017-03-29 &  922\\\\\n",
       "\t2017-03-30 &  581\\\\\n",
       "\t2017-03-31 &  652\\\\\n",
       "\t2017-04-03 &  961\\\\\n",
       "\t2017-04-04 &  967\\\\\n",
       "\t2017-04-05 &  979\\\\\n",
       "\t2017-04-06 &  916\\\\\n",
       "\t2017-04-07 &  584\\\\\n",
       "\t2017-04-10 & 1138\\\\\n",
       "\t2017-04-11 &  893\\\\\n",
       "\t2017-04-12 &  711\\\\\n",
       "\t2017-04-13 & 1070\\\\\n",
       "\t2017-04-14 &  570\\\\\n",
       "\t2017-04-17 &  927\\\\\n",
       "\t2017-04-18 & 1016\\\\\n",
       "\t2017-04-19 &  612\\\\\n",
       "\t2017-04-20 &  748\\\\\n",
       "\t2017-04-21 &  399\\\\\n",
       "\t2017-04-24 &  878\\\\\n",
       "\t2017-04-25 &  957\\\\\n",
       "\t2017-04-26 & 1257\\\\\n",
       "\t2017-04-27 &  853\\\\\n",
       "\t2017-04-28 & 1231\\\\\n",
       "\\end{tabular}\n"
      ],
      "text/markdown": [
       "\n",
       "| <!--/--> | OrdersToBeProcessed | \n",
       "|---|---|---|---|---|---|---|---|---|---|---|---|---|---|---|---|---|---|---|---|---|---|---|---|---|---|---|---|---|---|---|---|---|---|---|---|---|---|---|---|---|---|---|---|---|---|---|---|---|---|---|---|---|---|---|---|---|---|---|---|---|\n",
       "| 2017-02-01 |  747 | \n",
       "| 2017-02-02 |  981 | \n",
       "| 2017-02-03 | 1139 | \n",
       "| 2017-02-06 | 1366 | \n",
       "| 2017-02-07 |  783 | \n",
       "| 2017-02-08 | 1009 | \n",
       "| 2017-02-09 |  979 | \n",
       "| 2017-02-10 |  853 | \n",
       "| 2017-02-13 |  797 | \n",
       "| 2017-02-14 | 1004 | \n",
       "| 2017-02-15 |  518 | \n",
       "| 2017-02-16 | 1306 | \n",
       "| 2017-02-17 |  889 | \n",
       "| 2017-02-20 |  578 | \n",
       "| 2017-02-21 |  855 | \n",
       "| 2017-02-22 |  679 | \n",
       "| 2017-02-23 |  584 | \n",
       "| 2017-02-24 |  887 | \n",
       "| 2017-02-27 | 1066 | \n",
       "| 2017-02-28 |  969 | \n",
       "| 2017-03-01 |  528 | \n",
       "| 2017-03-02 |  730 | \n",
       "| 2017-03-03 |  624 | \n",
       "| 2017-03-06 | 1537 | \n",
       "| 2017-03-07 | 1111 | \n",
       "| 2017-03-08 |  810 | \n",
       "| 2017-03-09 |  969 | \n",
       "| 2017-03-10 | 1071 | \n",
       "| 2017-03-13 | 1133 | \n",
       "| 2017-03-14 |  381 | \n",
       "| ... | ... | \n",
       "| 2017-03-20 |  865 | \n",
       "| 2017-03-21 |  636 | \n",
       "| 2017-03-22 |  849 | \n",
       "| 2017-03-23 |  828 | \n",
       "| 2017-03-24 |  903 | \n",
       "| 2017-03-27 |  869 | \n",
       "| 2017-03-28 |  971 | \n",
       "| 2017-03-29 |  922 | \n",
       "| 2017-03-30 |  581 | \n",
       "| 2017-03-31 |  652 | \n",
       "| 2017-04-03 |  961 | \n",
       "| 2017-04-04 |  967 | \n",
       "| 2017-04-05 |  979 | \n",
       "| 2017-04-06 |  916 | \n",
       "| 2017-04-07 |  584 | \n",
       "| 2017-04-10 | 1138 | \n",
       "| 2017-04-11 |  893 | \n",
       "| 2017-04-12 |  711 | \n",
       "| 2017-04-13 | 1070 | \n",
       "| 2017-04-14 |  570 | \n",
       "| 2017-04-17 |  927 | \n",
       "| 2017-04-18 | 1016 | \n",
       "| 2017-04-19 |  612 | \n",
       "| 2017-04-20 |  748 | \n",
       "| 2017-04-21 |  399 | \n",
       "| 2017-04-24 |  878 | \n",
       "| 2017-04-25 |  957 | \n",
       "| 2017-04-26 | 1257 | \n",
       "| 2017-04-27 |  853 | \n",
       "| 2017-04-28 | 1231 | \n",
       "\n",
       "\n"
      ],
      "text/plain": [
       "           OrdersToBeProcessed\n",
       "2017-02-01  747               \n",
       "2017-02-02  981               \n",
       "2017-02-03 1139               \n",
       "2017-02-06 1366               \n",
       "2017-02-07  783               \n",
       "2017-02-08 1009               \n",
       "2017-02-09  979               \n",
       "2017-02-10  853               \n",
       "2017-02-13  797               \n",
       "2017-02-14 1004               \n",
       "2017-02-15  518               \n",
       "2017-02-16 1306               \n",
       "2017-02-17  889               \n",
       "2017-02-20  578               \n",
       "2017-02-21  855               \n",
       "2017-02-22  679               \n",
       "2017-02-23  584               \n",
       "2017-02-24  887               \n",
       "2017-02-27 1066               \n",
       "2017-02-28  969               \n",
       "2017-03-01  528               \n",
       "2017-03-02  730               \n",
       "2017-03-03  624               \n",
       "2017-03-06 1537               \n",
       "2017-03-07 1111               \n",
       "2017-03-08  810               \n",
       "2017-03-09  969               \n",
       "2017-03-10 1071               \n",
       "2017-03-13 1133               \n",
       "2017-03-14  381               \n",
       "...        ...                \n",
       "2017-03-20  865               \n",
       "2017-03-21  636               \n",
       "2017-03-22  849               \n",
       "2017-03-23  828               \n",
       "2017-03-24  903               \n",
       "2017-03-27  869               \n",
       "2017-03-28  971               \n",
       "2017-03-29  922               \n",
       "2017-03-30  581               \n",
       "2017-03-31  652               \n",
       "2017-04-03  961               \n",
       "2017-04-04  967               \n",
       "2017-04-05  979               \n",
       "2017-04-06  916               \n",
       "2017-04-07  584               \n",
       "2017-04-10 1138               \n",
       "2017-04-11  893               \n",
       "2017-04-12  711               \n",
       "2017-04-13 1070               \n",
       "2017-04-14  570               \n",
       "2017-04-17  927               \n",
       "2017-04-18 1016               \n",
       "2017-04-19  612               \n",
       "2017-04-20  748               \n",
       "2017-04-21  399               \n",
       "2017-04-24  878               \n",
       "2017-04-25  957               \n",
       "2017-04-26 1257               \n",
       "2017-04-27  853               \n",
       "2017-04-28 1231               "
      ]
     },
     "metadata": {},
     "output_type": "display_data"
    }
   ],
   "source": [
    "TX_Orders"
   ]
  },
  {
   "cell_type": "code",
   "execution_count": 18,
   "metadata": {
    "collapsed": false
   },
   "outputs": [],
   "source": [
    "#Creating a time series object using the ts() function\n",
    "TX_Orders_ts<-ts(TX_Orders)"
   ]
  },
  {
   "cell_type": "code",
   "execution_count": 19,
   "metadata": {
    "collapsed": false
   },
   "outputs": [
    {
     "data": {
      "text/plain": [
       "Time Series:\n",
       "Start = 1 \n",
       "End = 63 \n",
       "Frequency = 1 \n",
       "      OrdersToBeProcessed\n",
       " [1,]                 747\n",
       " [2,]                 981\n",
       " [3,]                1139\n",
       " [4,]                1366\n",
       " [5,]                 783\n",
       " [6,]                1009\n",
       " [7,]                 979\n",
       " [8,]                 853\n",
       " [9,]                 797\n",
       "[10,]                1004\n",
       "[11,]                 518\n",
       "[12,]                1306\n",
       "[13,]                 889\n",
       "[14,]                 578\n",
       "[15,]                 855\n",
       "[16,]                 679\n",
       "[17,]                 584\n",
       "[18,]                 887\n",
       "[19,]                1066\n",
       "[20,]                 969\n",
       "[21,]                 528\n",
       "[22,]                 730\n",
       "[23,]                 624\n",
       "[24,]                1537\n",
       "[25,]                1111\n",
       "[26,]                 810\n",
       "[27,]                 969\n",
       "[28,]                1071\n",
       "[29,]                1133\n",
       "[30,]                 381\n",
       "[31,]                1014\n",
       "[32,]                 805\n",
       "[33,]                1175\n",
       "[34,]                 865\n",
       "[35,]                 636\n",
       "[36,]                 849\n",
       "[37,]                 828\n",
       "[38,]                 903\n",
       "[39,]                 869\n",
       "[40,]                 971\n",
       "[41,]                 922\n",
       "[42,]                 581\n",
       "[43,]                 652\n",
       "[44,]                 961\n",
       "[45,]                 967\n",
       "[46,]                 979\n",
       "[47,]                 916\n",
       "[48,]                 584\n",
       "[49,]                1138\n",
       "[50,]                 893\n",
       "[51,]                 711\n",
       "[52,]                1070\n",
       "[53,]                 570\n",
       "[54,]                 927\n",
       "[55,]                1016\n",
       "[56,]                 612\n",
       "[57,]                 748\n",
       "[58,]                 399\n",
       "[59,]                 878\n",
       "[60,]                 957\n",
       "[61,]                1257\n",
       "[62,]                 853\n",
       "[63,]                1231"
      ]
     },
     "metadata": {},
     "output_type": "display_data"
    }
   ],
   "source": [
    "TX_Orders_ts"
   ]
  },
  {
   "cell_type": "code",
   "execution_count": 20,
   "metadata": {
    "collapsed": false
   },
   "outputs": [
    {
     "data": {
      "text/html": [
       "TRUE"
      ],
      "text/latex": [
       "TRUE"
      ],
      "text/markdown": [
       "TRUE"
      ],
      "text/plain": [
       "[1] TRUE"
      ]
     },
     "metadata": {},
     "output_type": "display_data"
    }
   ],
   "source": [
    "#Checking if the object is indeed a time series object\n",
    "is.ts(TX_Orders_ts)"
   ]
  },
  {
   "cell_type": "code",
   "execution_count": 21,
   "metadata": {
    "collapsed": false
   },
   "outputs": [
    {
     "data": {
      "image/png": "[encoded data removed]",
      "text/plain": [
       "plot without title"
      ]
     },
     "metadata": {},
     "output_type": "display_data"
    }
   ],
   "source": [
    "#Creating a time series plot\n",
    "ts.plot(TX_Orders_ts)"
   ]
  },
  {
   "cell_type": "markdown",
   "metadata": {
    "collapsed": true
   },
   "source": [
    "The data appears to be white noise from the first glance because it doesn't seem to show any dependence"
   ]
  },
  {
   "cell_type": "code",
   "execution_count": 22,
   "metadata": {
    "collapsed": false
   },
   "outputs": [
    {
     "data": {
      "image/png": "[encoded data removed]",
      "text/plain": [
       "Plot with title \"OrdersToBeProcessed\""
      ]
     },
     "metadata": {},
     "output_type": "display_data"
    }
   ],
   "source": [
    "#ACF plot\n",
    "acf(TX_Orders_ts)"
   ]
  },
  {
   "cell_type": "code",
   "execution_count": 23,
   "metadata": {
    "collapsed": false
   },
   "outputs": [
    {
     "data": {
      "image/png": "[encoded data removed]",
      "text/plain": [
       "Plot with title \"Series  TX_Orders_ts\""
      ]
     },
     "metadata": {},
     "output_type": "display_data"
    }
   ],
   "source": [
    "pacf(TX_Orders_ts)"
   ]
  },
  {
   "cell_type": "markdown",
   "metadata": {},
   "source": [
    "The plots do not show any correlation with any lags"
   ]
  },
  {
   "cell_type": "code",
   "execution_count": 24,
   "metadata": {
    "collapsed": false
   },
   "outputs": [
    {
     "data": {
      "text/plain": [
       "\n",
       "Autocorrelations of series 'TX_Orders_ts', by lag\n",
       "\n",
       "     0      1      2      3      4      5      6      7      8      9     10 \n",
       " 1.000 -0.065 -0.041 -0.118 -0.042  0.110 -0.030 -0.089 -0.013  0.092 -0.182 \n",
       "    11     12     13     14     15     16     17 \n",
       "-0.164  0.058 -0.060  0.014 -0.030  0.165 -0.073 "
      ]
     },
     "metadata": {},
     "output_type": "display_data"
    }
   ],
   "source": [
    "#The actual values plotted by the acf() function earlier\n",
    "acf(TX_Orders_ts, plot=FALSE)"
   ]
  },
  {
   "cell_type": "code",
   "execution_count": 25,
   "metadata": {
    "collapsed": true
   },
   "outputs": [],
   "source": [
    "#Trying the Moving Average Model\n",
    "MA_TX_Orders_ts <- arima(TX_Orders_ts,order=c(0,0,1))"
   ]
  },
  {
   "cell_type": "code",
   "execution_count": 26,
   "metadata": {
    "collapsed": false
   },
   "outputs": [
    {
     "name": "stdout",
     "output_type": "stream",
     "text": [
      "\n",
      "Call:\n",
      "arima(x = TX_Orders_ts, order = c(0, 0, 1))\n",
      "\n",
      "Coefficients:\n",
      "          ma1  intercept\n",
      "      -0.0755   882.5826\n",
      "s.e.   0.1375    26.6452\n",
      "\n",
      "sigma^2 estimated as 52178:  log likelihood = -431.56,  aic = 869.12\n"
     ]
    }
   ],
   "source": [
    "print(MA_TX_Orders_ts)"
   ]
  },
  {
   "cell_type": "code",
   "execution_count": 27,
   "metadata": {
    "collapsed": false
   },
   "outputs": [
    {
     "data": {
      "image/png": "[encoded data removed]",
      "text/plain": [
       "plot without title"
      ]
     },
     "metadata": {},
     "output_type": "display_data"
    }
   ],
   "source": [
    "ts.plot(TX_Orders_ts)\n",
    "MA_TX_Orders_ts <- arima(TX_Orders_ts,order=c(0,0,1))\n",
    "MA_TX_Orders_ts_forecasts <- predict(MA_TX_Orders_ts, n.ahead=10)$pred\n",
    "MA_TX_Orders_ts_forecasts_se <- predict(MA_TX_Orders_ts, n.ahead=10)$se\n",
    "points(MA_TX_Orders_ts_forecasts,type='l',col=2)\n",
    "points(MA_TX_Orders_ts_forecasts-2*MA_TX_Orders_ts_forecasts_se, type='l', col=2,lty=2)\n",
    "points(MA_TX_Orders_ts_forecasts+2*MA_TX_Orders_ts_forecasts_se, type='l', col=2,lty=2)"
   ]
  },
  {
   "cell_type": "markdown",
   "metadata": {},
   "source": [
    "Pretty clear that the MA model does not to a good job"
   ]
  },
  {
   "cell_type": "code",
   "execution_count": null,
   "metadata": {
    "collapsed": true
   },
   "outputs": [],
   "source": []
  },
  {
   "cell_type": "code",
   "execution_count": 28,
   "metadata": {
    "collapsed": false
   },
   "outputs": [],
   "source": [
    "#Trying Auto Regression\n",
    "AR_TX_Orders_ts <- arima(TX_Orders_ts,order=c(1,0,0))"
   ]
  },
  {
   "cell_type": "code",
   "execution_count": 29,
   "metadata": {
    "collapsed": false
   },
   "outputs": [
    {
     "name": "stdout",
     "output_type": "stream",
     "text": [
      "\n",
      "Call:\n",
      "arima(x = TX_Orders_ts, order = c(1, 0, 0))\n",
      "\n",
      "Coefficients:\n",
      "          ar1  intercept\n",
      "      -0.0666   882.6464\n",
      "s.e.   0.1274    27.0180\n",
      "\n",
      "sigma^2 estimated as 52207:  log likelihood = -431.58,  aic = 869.16\n"
     ]
    }
   ],
   "source": [
    "print(AR_TX_Orders_ts)"
   ]
  },
  {
   "cell_type": "markdown",
   "metadata": {},
   "source": [
    "AIC scores tell that AR performs even worse than the MA model"
   ]
  },
  {
   "cell_type": "code",
   "execution_count": 30,
   "metadata": {
    "collapsed": false
   },
   "outputs": [
    {
     "name": "stderr",
     "output_type": "stream",
     "text": [
      "Loading required package: forecast\n"
     ]
    }
   ],
   "source": [
    "#Loading the 'forecast' package to use auto.arima function\n",
    "require('forecast')"
   ]
  },
  {
   "cell_type": "code",
   "execution_count": 31,
   "metadata": {
    "collapsed": false
   },
   "outputs": [
    {
     "data": {
      "text/plain": [
       "Series: TX_Orders_ts \n",
       "ARIMA(0,0,0) with non-zero mean \n",
       "\n",
       "Coefficients:\n",
       "          mean\n",
       "      882.8571\n",
       "s.e.   28.8502\n",
       "\n",
       "sigma^2 estimated as 53283:  log likelihood=-431.72\n",
       "AIC=867.43   AICc=867.63   BIC=871.72"
      ]
     },
     "metadata": {},
     "output_type": "display_data"
    }
   ],
   "source": [
    "#What model would the auto.arima function suggest?\n",
    "auto.arima(TX_Orders_ts)\n"
   ]
  },
  {
   "cell_type": "markdown",
   "metadata": {},
   "source": [
    "At this point, we can state that the data is white noise."
   ]
  },
  {
   "cell_type": "code",
   "execution_count": null,
   "metadata": {
    "collapsed": true
   },
   "outputs": [],
   "source": []
  }
 ],
 "metadata": {
  "kernelspec": {
   "display_name": "R",
   "language": "R",
   "name": "ir"
  },
  "language_info": {
   "codemirror_mode": "r",
   "file_extension": ".r",
   "mimetype": "text/x-r-source",
   "name": "R",
   "pygments_lexer": "r",
   "version": "3.4.0"
  }
 },
 "nbformat": 4,
 "nbformat_minor": 2
}
